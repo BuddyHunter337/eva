{
 "cells": [
  {
   "attachments": {},
   "cell_type": "markdown",
   "id": "899e81c0",
   "metadata": {},
   "source": [
    "## License Plate Detection using Fuzzy Join "
   ]
  },
  {
   "cell_type": "markdown",
   "id": "c870b8d3",
   "metadata": {},
   "source": [
    "### Start EVA server\n",
    "\n",
    "We are reusing the start server notebook for launching the EVA server."
   ]
  },
  {
   "cell_type": "code",
   "execution_count": 3,
   "id": "15379759",
   "metadata": {},
   "outputs": [
    {
     "name": "stdout",
     "output_type": "stream",
     "text": [
      "\n",
      "\u001b[1m[\u001b[0m\u001b[34;49mnotice\u001b[0m\u001b[1;39;49m]\u001b[0m\u001b[39;49m A new release of pip is available: \u001b[0m\u001b[31;49m23.0.1\u001b[0m\u001b[39;49m -> \u001b[0m\u001b[32;49m23.1.2\u001b[0m\n",
      "\u001b[1m[\u001b[0m\u001b[34;49mnotice\u001b[0m\u001b[1;39;49m]\u001b[0m\u001b[39;49m To update, run: \u001b[0m\u001b[32;49mpip install --upgrade pip\u001b[0m\n",
      "Note: you may need to restart the kernel to use updated packages.\n"
     ]
    }
   ],
   "source": [
    "# !wget -nc \"https://raw.githubusercontent.com/georgia-tech-db/eva/master/tutorials/00-start-eva-server.ipynb\"\n",
    "%run 00-start-eva-server.ipynb\n",
    "cursor = connect_to_server()"
   ]
  },
  {
   "attachments": {},
   "cell_type": "markdown",
   "id": "93e60a0f",
   "metadata": {},
   "source": [
    "### Adding the images to EVADB for analysis"
   ]
  },
  {
   "cell_type": "code",
   "execution_count": 7,
   "id": "e2f7e482",
   "metadata": {},
   "outputs": [
    {
     "name": "stdout",
     "output_type": "stream",
     "text": [
      "@status: ResponseStatus.SUCCESS\n",
      "@batch: \n",
      " Empty DataFrame\n",
      "Columns: []\n",
      "Index: []\n",
      "@query_time: 0.014810735359787941\n",
      "@status: ResponseStatus.SUCCESS\n",
      "@batch: \n",
      "                            0\n",
      "0  Number of loaded IMAGE: 1\n",
      "@query_time: 0.0974723007529974\n",
      "@status: ResponseStatus.SUCCESS\n",
      "@batch: \n",
      "                            0\n",
      "0  Number of loaded IMAGE: 1\n",
      "@query_time: 0.02928401343524456\n",
      "@status: ResponseStatus.SUCCESS\n",
      "@batch: \n",
      "                            0\n",
      "0  Number of loaded IMAGE: 1\n",
      "@query_time: 0.03620741702616215\n",
      "@status: ResponseStatus.SUCCESS\n",
      "@batch: \n",
      "                            0\n",
      "0  Number of loaded IMAGE: 1\n",
      "@query_time: 0.02578231692314148\n",
      "@status: ResponseStatus.SUCCESS\n",
      "@batch: \n",
      "                            0\n",
      "0  Number of loaded IMAGE: 1\n",
      "@query_time: 0.020218927413225174\n",
      "@status: ResponseStatus.SUCCESS\n",
      "@batch: \n",
      "                            0\n",
      "0  Number of loaded IMAGE: 1\n",
      "@query_time: 0.02314240299165249\n",
      "@status: ResponseStatus.SUCCESS\n",
      "@batch: \n",
      "                            0\n",
      "0  Number of loaded IMAGE: 1\n",
      "@query_time: 0.016362115740776062\n"
     ]
    }
   ],
   "source": [
    "cursor.execute('DROP TABLE IF EXISTS MyImages;')\n",
    "response = cursor.fetch_all()\n",
    "print(response)\n",
    "\n",
    "cursor.execute('LOAD IMAGE \"../data/license/Cars0.png\" INTO MyImages;')\n",
    "response = cursor.fetch_all()\n",
    "print(response)\n",
    "\n",
    "cursor.execute('LOAD IMAGE \"../data/license/Cars1.png\" INTO MyImages;')\n",
    "response = cursor.fetch_all()\n",
    "print(response)\n",
    "\n",
    "cursor.execute('LOAD IMAGE \"../data/license/Cars2.png\" INTO MyImages;')\n",
    "response = cursor.fetch_all()\n",
    "print(response)\n",
    "\n",
    "cursor.execute('LOAD IMAGE \"../data/license/Cars3.png\" INTO MyImages;')\n",
    "response = cursor.fetch_all()\n",
    "print(response)\n",
    "\n",
    "cursor.execute('LOAD IMAGE \"../data/license/Cars4.png\" INTO MyImages;')\n",
    "response = cursor.fetch_all()\n",
    "print(response)\n",
    "\n",
    "cursor.execute('LOAD IMAGE \"../data/license/Cars5.png\" INTO MyImages;')\n",
    "response = cursor.fetch_all()\n",
    "print(response)\n",
    "\n",
    "cursor.execute('LOAD IMAGE \"../data/license/Cars6.png\" INTO MyImages;')\n",
    "response = cursor.fetch_all()\n",
    "print(response)"
   ]
  },
  {
   "attachments": {},
   "cell_type": "markdown",
   "id": "322c0ab2",
   "metadata": {},
   "source": [
    "### License Plate Recognition"
   ]
  },
  {
   "cell_type": "code",
   "execution_count": 8,
   "id": "dced71f6",
   "metadata": {},
   "outputs": [
    {
     "name": "stdout",
     "output_type": "stream",
     "text": [
      "@status: ResponseStatus.SUCCESS\n",
      "@batch: \n",
      "                                                       0\n",
      "0  UDF OCRExtractor successfully added to the database.\n",
      "@query_time: 2.5161344539374113\n",
      "@status: ResponseStatus.SUCCESS\n",
      "@batch: \n",
      "                                                       0\n",
      "0  UDF FuzzDistance successfully added to the database.\n",
      "@query_time: 0.02586629055440426\n"
     ]
    }
   ],
   "source": [
    "cursor.execute(\"\"\"CREATE UDF IF NOT EXISTS OCRExtractor\n",
    "                  INPUT  (frame NDARRAY UINT8(3, ANYDIM, ANYDIM))\n",
    "                  OUTPUT (labels NDARRAY STR(10),\n",
    "                          bboxes NDARRAY FLOAT32(ANYDIM, 4),\n",
    "                          scores NDARRAY FLOAT32(ANYDIM))\n",
    "                  TYPE  OCRExtraction\n",
    "                  IMPL  '../eva/udfs/ocr_extractor.py' ;\n",
    "      \"\"\")\n",
    "response = cursor.fetch_all()\n",
    "print(response)\n",
    "\n",
    "cursor.execute(\"\"\"CREATE UDF IF NOT EXISTS FuzzDistance\n",
    "                    INPUT (Input_Array1 NDARRAY ANYTYPE, Input_Array2 NDARRAY ANYTYPE)\n",
    "                    OUTPUT (distance FLOAT(32, 7))\n",
    "                    TYPE NdarrayUDF\n",
    "                    IMPL \"../eva/udfs/ndarray/fuzzy_join.py\";\n",
    "                    \"\"\")\n",
    "response = cursor.fetch_all()\n",
    "print(response)"
   ]
  },
  {
   "cell_type": "code",
   "execution_count": 9,
   "id": "d3d921b0",
   "metadata": {},
   "outputs": [
    {
     "name": "stdout",
     "output_type": "stream",
     "text": [
      "@status: ResponseStatus.SUCCESS\n",
      "@batch: \n",
      " Empty DataFrame\n",
      "Columns: []\n",
      "Index: []\n",
      "@query_time: 0.041497599333524704\n"
     ]
    }
   ],
   "source": [
    "cursor.execute(\"CREATE TABLE IF NOT EXISTS LicensePlateCSV(id INTEGER UNIQUE, label TEXT(30));\")\n",
    "response = cursor.fetch_all()\n",
    "print(response)"
   ]
  },
  {
   "cell_type": "code",
   "execution_count": 10,
   "id": "03187c26",
   "metadata": {},
   "outputs": [
    {
     "name": "stdout",
     "output_type": "stream",
     "text": [
      "@status: ResponseStatus.SUCCESS\n",
      "@batch: \n",
      "         CSV  Number of loaded frames\n",
      "0  data.csv                        5\n",
      "@query_time: 0.035665012896060944\n"
     ]
    }
   ],
   "source": [
    "cursor.execute(\"LOAD CSV 'data.csv' INTO LicensePlateCSV;\")\n",
    "response = cursor.fetch_all()\n",
    "print(response)\n"
   ]
  },
  {
   "cell_type": "code",
   "execution_count": 11,
   "id": "a0eb6fb0",
   "metadata": {},
   "outputs": [
    {
     "name": "stdout",
     "output_type": "stream",
     "text": [
      "@status: ResponseStatus.SUCCESS\n",
      "@batch: \n",
      "             ocrextractor.labels  \\\n",
      "0                  [KLL1CA2555]   \n",
      "1          [Coi, rrm, PGoMN112]   \n",
      "2                    [PRErINLB]   \n",
      "3                    [DZIZ YXR]   \n",
      "4                  [pPuie, BES]   \n",
      "5      [Wet, alamy stock photo]   \n",
      "6  [802.LIN, Fay, VIRGINIA, 07]   \n",
      "\n",
      "                                                                                   ocrextractor.bboxes  \\\n",
      "0                                                   [[[241, 117], [424, 117], [424, 178], [241, 178]]]   \n",
      "1  [[[320, 96], [342, 96], [342, 104], [320, 104]], [[56, 100], [90, 100], [90, 108], [56, 108]], [...   \n",
      "2                                                   [[[227, 173], [269, 173], [269, 193], [227, 193]]]   \n",
      "3                                                   [[[150, 128], [250, 128], [250, 158], [150, 158]]]   \n",
      "4  [[[175.83355283634924, 85.05243648347647], [388.302989236221, 113.80042194340535], [367.16644716...   \n",
      "5   [[[362, 274], [384, 274], [384, 280], [362, 280]], [[34, 271], [161, 271], [161, 291], [34, 291]]]   \n",
      "6  [[[157, 141], [370, 141], [370, 219], [157, 219]], [[128, 204], [164, 204], [164, 232], [128, 23...   \n",
      "\n",
      "                                                                ocrextractor.scores  \n",
      "0                                                             [0.39098872618082126]  \n",
      "1                   [0.23169916533711551, 0.009940722456327575, 0.4241111208319447]  \n",
      "2                                                             [0.03078860722288193]  \n",
      "3                                                               [0.793527768086817]  \n",
      "4                                         [0.19524572793420314, 0.9999172721889428]  \n",
      "5                                        [0.002625451023406099, 0.9961629302196489]  \n",
      "6  [0.8867473792698747, 0.3077408085621039, 0.9979013967022942, 0.9999384661556963]  \n",
      "@query_time: 5.332532644271851\n"
     ]
    }
   ],
   "source": [
    "cursor.execute('SELECT OCRExtractor(data) FROM MyImages;')\n",
    "res = cursor.fetch_all()\n",
    "print(res)"
   ]
  },
  {
   "cell_type": "code",
   "execution_count": 14,
   "id": "e93233e9",
   "metadata": {},
   "outputs": [
    {
     "name": "stdout",
     "output_type": "stream",
     "text": [
      "@status: ResponseStatus.FAIL\n",
      "@batch: \n",
      " None\n",
      "@error: module must have its parameters and buffers on device cuda:0 (device_ids[0]) but found one of them on device: cuda:1\n"
     ]
    }
   ],
   "source": [
    "cursor.execute('SELECT OCRExtractor(data) FROM MyImages;')\n",
    "res = cursor.fetch_all()\n",
    "print(res)"
   ]
  },
  {
   "cell_type": "code",
   "execution_count": 13,
   "id": "9431e221",
   "metadata": {},
   "outputs": [
    {
     "name": "stdout",
     "output_type": "stream",
     "text": [
      "@status: ResponseStatus.FAIL\n",
      "@batch: \n",
      " None\n",
      "@error: module must have its parameters and buffers on device cuda:0 (device_ids[0]) but found one of them on device: cuda:1\n"
     ]
    }
   ],
   "source": [
    "cursor.execute('SELECT * FROM MyImages JOIN LATERAL OCRExtractor(data) AS T(a,b,c) JOIN LicensePlateCSV B ON FuzzDistance(T.a, B.label) > 50;')\n",
    "res = cursor.fetch_all()\n",
    "print(res)\n"
   ]
  }
 ],
 "metadata": {
  "kernelspec": {
   "display_name": "Python 3 (ipykernel)",
   "language": "python",
   "name": "python3"
  },
  "language_info": {
   "codemirror_mode": {
    "name": "ipython",
    "version": 3
   },
   "file_extension": ".py",
   "mimetype": "text/x-python",
   "name": "python",
   "nbconvert_exporter": "python",
   "pygments_lexer": "ipython3",
   "version": "3.8.10"
  },
  "varInspector": {
   "cols": {
    "lenName": 16,
    "lenType": 16,
    "lenVar": 40
   },
   "kernels_config": {
    "python": {
     "delete_cmd_postfix": "",
     "delete_cmd_prefix": "del ",
     "library": "var_list.py",
     "varRefreshCmd": "print(var_dic_list())"
    },
    "r": {
     "delete_cmd_postfix": ") ",
     "delete_cmd_prefix": "rm(",
     "library": "var_list.r",
     "varRefreshCmd": "cat(var_dic_list()) "
    }
   },
   "types_to_exclude": [
    "module",
    "function",
    "builtin_function_or_method",
    "instance",
    "_Feature"
   ],
   "window_display": false
  }
 },
 "nbformat": 4,
 "nbformat_minor": 5
}
